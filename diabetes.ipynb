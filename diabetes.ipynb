{
  "nbformat": 4,
  "nbformat_minor": 0,
  "metadata": {
    "colab": {
      "provenance": []
    },
    "kernelspec": {
      "name": "python3",
      "display_name": "Python 3"
    },
    "language_info": {
      "name": "python"
    }
  },
  "cells": [
    {
      "cell_type": "code",
      "execution_count": 4,
      "metadata": {
        "id": "szPTwqB7CBc_"
      },
      "outputs": [],
      "source": [
        "import pandas as pd\n",
        "import numpy as np\n",
        "from sklearn.model_selection import train_test_split\n",
        "from sklearn.preprocessing import StandardScaler, LabelEncoder\n",
        "from sklearn.ensemble import RandomForestClassifier, GradientBoostingClassifier, AdaBoostClassifier\n",
        "from sklearn.linear_model import LogisticRegression\n",
        "from sklearn.metrics import accuracy_score, classification_report, confusion_matrix\n",
        "import matplotlib.pyplot as plt\n",
        "import seaborn as sns\n",
        "\n",
        "from sklearn.svm import SVC\n",
        "from xgboost import XGBClassifier\n",
        "\n",
        "import tensorflow as tf\n",
        "from tensorflow.keras.models import Sequential\n",
        "from tensorflow.keras.layers import Dense, Dropout"
      ]
    },
    {
      "cell_type": "code",
      "source": [
        "from google.colab import drive\n",
        "drive.mount('/content/drive')"
      ],
      "metadata": {
        "colab": {
          "base_uri": "https://localhost:8080/"
        },
        "id": "g-UtYOxrCY9d",
        "outputId": "b8ddb7e1-fa25-475d-ccb5-a3ae5ab5b78e"
      },
      "execution_count": 5,
      "outputs": [
        {
          "output_type": "stream",
          "name": "stdout",
          "text": [
            "Mounted at /content/drive\n"
          ]
        }
      ]
    },
    {
      "cell_type": "code",
      "source": [
        "# Load the data\n",
        "diabetic_data = pd.read_csv('/content/drive/MyDrive/diabetic_data/diabetic_data.csv')\n",
        "ids_mapping = pd.read_csv('/content/drive/MyDrive/diabetic_data/IDS_mapping.csv')\n",
        "\n",
        "print(diabetic_data.head())\n",
        "print(ids_mapping.head())"
      ],
      "metadata": {
        "colab": {
          "base_uri": "https://localhost:8080/"
        },
        "id": "5Uu6mKa_C7uU",
        "outputId": "2e891e1b-40af-4199-9836-03f436044968"
      },
      "execution_count": 6,
      "outputs": [
        {
          "output_type": "stream",
          "name": "stdout",
          "text": [
            "   encounter_id  patient_nbr             race  gender      age weight  \\\n",
            "0       2278392      8222157        Caucasian  Female   [0-10)      ?   \n",
            "1        149190     55629189        Caucasian  Female  [10-20)      ?   \n",
            "2         64410     86047875  AfricanAmerican  Female  [20-30)      ?   \n",
            "3        500364     82442376        Caucasian    Male  [30-40)      ?   \n",
            "4         16680     42519267        Caucasian    Male  [40-50)      ?   \n",
            "\n",
            "   admission_type_id  discharge_disposition_id  admission_source_id  \\\n",
            "0                  6                        25                    1   \n",
            "1                  1                         1                    7   \n",
            "2                  1                         1                    7   \n",
            "3                  1                         1                    7   \n",
            "4                  1                         1                    7   \n",
            "\n",
            "   time_in_hospital  ... citoglipton insulin  glyburide-metformin  \\\n",
            "0                 1  ...          No      No                   No   \n",
            "1                 3  ...          No      Up                   No   \n",
            "2                 2  ...          No      No                   No   \n",
            "3                 2  ...          No      Up                   No   \n",
            "4                 1  ...          No  Steady                   No   \n",
            "\n",
            "   glipizide-metformin  glimepiride-pioglitazone  metformin-rosiglitazone  \\\n",
            "0                   No                        No                       No   \n",
            "1                   No                        No                       No   \n",
            "2                   No                        No                       No   \n",
            "3                   No                        No                       No   \n",
            "4                   No                        No                       No   \n",
            "\n",
            "   metformin-pioglitazone  change diabetesMed readmitted  \n",
            "0                      No      No          No         NO  \n",
            "1                      No      Ch         Yes        >30  \n",
            "2                      No      No         Yes         NO  \n",
            "3                      No      Ch         Yes         NO  \n",
            "4                      No      Ch         Yes         NO  \n",
            "\n",
            "[5 rows x 50 columns]\n",
            "  admission_type_id    description\n",
            "0                 1      Emergency\n",
            "1                 2         Urgent\n",
            "2                 3       Elective\n",
            "3                 4        Newborn\n",
            "4                 5  Not Available\n"
          ]
        }
      ]
    },
    {
      "cell_type": "markdown",
      "source": [
        "# Data Preprocessing"
      ],
      "metadata": {
        "id": "CriUVySvEuuW"
      }
    },
    {
      "cell_type": "code",
      "source": [
        "print('Preprocessing data .........')\n",
        "# Drop columns that won't help in prediction (e.g., unique patient IDs)\n",
        "diabetic_data.drop(columns=['encounter_id', 'patient_nbr'], inplace=True)"
      ],
      "metadata": {
        "id": "VknOW7SVDkkI",
        "colab": {
          "base_uri": "https://localhost:8080/"
        },
        "outputId": "c81ddd77-ba37-452f-c48c-821d26e15a1c"
      },
      "execution_count": 7,
      "outputs": [
        {
          "output_type": "stream",
          "name": "stdout",
          "text": [
            "Preprocessing data .........\n"
          ]
        }
      ]
    },
    {
      "cell_type": "markdown",
      "source": [],
      "metadata": {
        "id": "VI2JESK4D7KV"
      }
    },
    {
      "cell_type": "code",
      "source": [
        "# Handle missing values\n",
        "diabetic_data.replace('?', np.nan, inplace=True)\n",
        "missing_values = diabetic_data.isnull().sum()\n",
        "missing_columns = missing_values[missing_values > 0].index.tolist()\n",
        "diabetic_data.drop(columns=missing_columns, inplace=True)"
      ],
      "metadata": {
        "id": "AWhpUCGwDm8e"
      },
      "execution_count": 8,
      "outputs": []
    },
    {
      "cell_type": "code",
      "source": [
        "print('Preparing data for models .........')\n",
        "# Encode categorical variables\n",
        "categorical_cols = diabetic_data.select_dtypes(include=['object']).columns\n",
        "le = LabelEncoder()\n",
        "for col in categorical_cols:\n",
        "    diabetic_data[col] = le.fit_transform(diabetic_data[col])\n",
        "\n",
        "# Split dataset into features and target variable\n",
        "X = diabetic_data.drop(columns=['readmitted'])\n",
        "y = diabetic_data['readmitted']"
      ],
      "metadata": {
        "id": "BejjnRv3DrBm",
        "colab": {
          "base_uri": "https://localhost:8080/"
        },
        "outputId": "89e627f0-4362-44ff-cfda-ddc4060f01dd"
      },
      "execution_count": 9,
      "outputs": [
        {
          "output_type": "stream",
          "name": "stdout",
          "text": [
            "Preparing data for models .........\n"
          ]
        }
      ]
    },
    {
      "cell_type": "code",
      "source": [
        "# Split data into training and testing sets\n",
        "X_train, X_test, y_train, y_test = train_test_split(X, y, test_size=0.2, random_state=42)\n",
        "\n",
        "# Feature Scaling\n",
        "scaler = StandardScaler()\n",
        "X_train = scaler.fit_transform(X_train)\n",
        "X_test = scaler.transform(X_test)"
      ],
      "metadata": {
        "id": "qUmPxwf6Dw0x"
      },
      "execution_count": 10,
      "outputs": []
    },
    {
      "cell_type": "markdown",
      "source": [
        "# Model Building"
      ],
      "metadata": {
        "id": "Gw_RRx3_ECOO"
      }
    },
    {
      "cell_type": "code",
      "source": [
        "print('Model building - LogisticRegression')\n",
        "# Logistic Regression\n",
        "logistic_model = LogisticRegression(max_iter=1000)\n",
        "logistic_model.fit(X_train, y_train)\n",
        "y_pred_logistic = logistic_model.predict(X_test)"
      ],
      "metadata": {
        "id": "kg3lVsabDz3d",
        "colab": {
          "base_uri": "https://localhost:8080/"
        },
        "outputId": "e0e449e6-aaf7-4be6-9adb-61dd263948e8"
      },
      "execution_count": 11,
      "outputs": [
        {
          "output_type": "stream",
          "name": "stdout",
          "text": [
            "Model building - LogisticRegression\n"
          ]
        }
      ]
    },
    {
      "cell_type": "code",
      "source": [
        "print('Model building - RandomForestClassifier')\n",
        "# Random Forest Classifier\n",
        "rf_model = RandomForestClassifier(n_estimators=100, random_state=42)\n",
        "rf_model.fit(X_train, y_train)\n",
        "y_pred_rf = rf_model.predict(X_test)"
      ],
      "metadata": {
        "id": "SI9WCQW7EHK5",
        "colab": {
          "base_uri": "https://localhost:8080/"
        },
        "outputId": "8651a891-53bd-4cb7-cd39-1fcfc7bac9e2"
      },
      "execution_count": 12,
      "outputs": [
        {
          "output_type": "stream",
          "name": "stdout",
          "text": [
            "Model building - RandomForestClassifier\n"
          ]
        }
      ]
    },
    {
      "cell_type": "code",
      "source": [
        "# print('Model building - SVM')\n",
        "# # Support Vector Machine (SVM)\n",
        "# svm_model = SVC(kernel=\"rbf\", probability=True, random_state=42)\n",
        "# svm_model.fit(X_train, y_train)\n",
        "# y_pred_svm = svm_model.predict(X_test)"
      ],
      "metadata": {
        "id": "oQpT7kRsFSSP"
      },
      "execution_count": 13,
      "outputs": []
    },
    {
      "cell_type": "code",
      "source": [
        "print('Model building - GradientBoostingClassifier')\n",
        "# Gradient Boosting Classifier\n",
        "gb_model = GradientBoostingClassifier(n_estimators=100, random_state=42)\n",
        "gb_model.fit(X_train, y_train)\n",
        "y_pred_gb = gb_model.predict(X_test)"
      ],
      "metadata": {
        "colab": {
          "base_uri": "https://localhost:8080/"
        },
        "id": "Cw44rqo4FTas",
        "outputId": "287afee2-9a94-4012-ccc2-f4ec634bc8ae"
      },
      "execution_count": 14,
      "outputs": [
        {
          "output_type": "stream",
          "name": "stdout",
          "text": [
            "Model building - GradientBoostingClassifier\n"
          ]
        }
      ]
    },
    {
      "cell_type": "code",
      "source": [
        "print('Model building - XGBClassifier')\n",
        "# XGBoost Classifier\n",
        "xgb_model = XGBClassifier(\n",
        "    use_label_encoder=False, eval_metric=\"logloss\", random_state=42\n",
        ")\n",
        "xgb_model.fit(X_train, y_train)\n",
        "y_pred_xgb = xgb_model.predict(X_test)"
      ],
      "metadata": {
        "colab": {
          "base_uri": "https://localhost:8080/"
        },
        "id": "7UcMJh3zFXqO",
        "outputId": "f469ac26-d309-4ac3-f9b3-f0f0814739fc"
      },
      "execution_count": 15,
      "outputs": [
        {
          "output_type": "stream",
          "name": "stdout",
          "text": [
            "Model building - XGBClassifier\n"
          ]
        },
        {
          "output_type": "stream",
          "name": "stderr",
          "text": [
            "/usr/local/lib/python3.10/dist-packages/xgboost/core.py:158: UserWarning: [11:15:02] WARNING: /workspace/src/learner.cc:740: \n",
            "Parameters: { \"use_label_encoder\" } are not used.\n",
            "\n",
            "  warnings.warn(smsg, UserWarning)\n"
          ]
        }
      ]
    },
    {
      "cell_type": "code",
      "source": [
        "print('Model building - AdaBoostClassifier')\n",
        "# AdaBoost Classifier\n",
        "ada_model = AdaBoostClassifier(n_estimators=100, random_state=42)\n",
        "ada_model.fit(X_train, y_train)\n",
        "y_pred_ada = ada_model.predict(X_test)"
      ],
      "metadata": {
        "colab": {
          "base_uri": "https://localhost:8080/"
        },
        "id": "0yH6pVx5FZ-f",
        "outputId": "314aec67-f6bf-4572-8648-e3d1e202d623"
      },
      "execution_count": 16,
      "outputs": [
        {
          "output_type": "stream",
          "name": "stdout",
          "text": [
            "Model building - AdaBoostClassifier\n"
          ]
        }
      ]
    },
    {
      "cell_type": "code",
      "source": [
        "print('Model building - Deep Learning')\n",
        "# Deep Learning Model\n",
        "deep_model = Sequential()\n",
        "deep_model.add(Dense(64, input_dim=X_train.shape[1], activation=\"relu\"))\n",
        "deep_model.add(Dropout(0.5))\n",
        "deep_model.add(Dense(32, activation=\"relu\"))\n",
        "deep_model.add(Dropout(0.5))\n",
        "deep_model.add(Dense(1, activation=\"sigmoid\"))\n",
        "\n",
        "# Compile the model\n",
        "deep_model.compile(optimizer=\"adam\", loss=\"binary_crossentropy\", metrics=[\"accuracy\"])\n",
        "\n",
        "print(deep_model.summary())\n",
        "\n",
        "print('Model training - Deep Learning')\n",
        "# Train the model\n",
        "deep_model.fit(\n",
        "    X_train,\n",
        "    y_train,\n",
        "    epochs=50,\n",
        "    batch_size=32,\n",
        "    validation_data=(X_test, y_test),\n",
        "    verbose=1,\n",
        ")\n",
        "\n",
        "# Predict with Deep Learning Model\n",
        "y_pred_deep = (deep_model.predict(X_test) > 0.5).astype(\"int32\")"
      ],
      "metadata": {
        "colab": {
          "base_uri": "https://localhost:8080/",
          "height": 1000
        },
        "id": "lsVk5WILFast",
        "outputId": "537d1e3a-2cb8-4a9f-df46-521eef13fb56"
      },
      "execution_count": 17,
      "outputs": [
        {
          "output_type": "stream",
          "name": "stdout",
          "text": [
            "Model building - Deep Learning\n"
          ]
        },
        {
          "output_type": "stream",
          "name": "stderr",
          "text": [
            "/usr/local/lib/python3.10/dist-packages/keras/src/layers/core/dense.py:87: UserWarning: Do not pass an `input_shape`/`input_dim` argument to a layer. When using Sequential models, prefer using an `Input(shape)` object as the first layer in the model instead.\n",
            "  super().__init__(activity_regularizer=activity_regularizer, **kwargs)\n"
          ]
        },
        {
          "output_type": "display_data",
          "data": {
            "text/plain": [
              "\u001b[1mModel: \"sequential\"\u001b[0m\n"
            ],
            "text/html": [
              "<pre style=\"white-space:pre;overflow-x:auto;line-height:normal;font-family:Menlo,'DejaVu Sans Mono',consolas,'Courier New',monospace\"><span style=\"font-weight: bold\">Model: \"sequential\"</span>\n",
              "</pre>\n"
            ]
          },
          "metadata": {}
        },
        {
          "output_type": "display_data",
          "data": {
            "text/plain": [
              "┏━━━━━━━━━━━━━━━━━━━━━━━━━━━━━━━━━━━━━━┳━━━━━━━━━━━━━━━━━━━━━━━━━━━━━┳━━━━━━━━━━━━━━━━━┓\n",
              "┃\u001b[1m \u001b[0m\u001b[1mLayer (type)                        \u001b[0m\u001b[1m \u001b[0m┃\u001b[1m \u001b[0m\u001b[1mOutput Shape               \u001b[0m\u001b[1m \u001b[0m┃\u001b[1m \u001b[0m\u001b[1m        Param #\u001b[0m\u001b[1m \u001b[0m┃\n",
              "┡━━━━━━━━━━━━━━━━━━━━━━━━━━━━━━━━━━━━━━╇━━━━━━━━━━━━━━━━━━━━━━━━━━━━━╇━━━━━━━━━━━━━━━━━┩\n",
              "│ dense (\u001b[38;5;33mDense\u001b[0m)                        │ (\u001b[38;5;45mNone\u001b[0m, \u001b[38;5;34m64\u001b[0m)                  │           \u001b[38;5;34m2,496\u001b[0m │\n",
              "├──────────────────────────────────────┼─────────────────────────────┼─────────────────┤\n",
              "│ dropout (\u001b[38;5;33mDropout\u001b[0m)                    │ (\u001b[38;5;45mNone\u001b[0m, \u001b[38;5;34m64\u001b[0m)                  │               \u001b[38;5;34m0\u001b[0m │\n",
              "├──────────────────────────────────────┼─────────────────────────────┼─────────────────┤\n",
              "│ dense_1 (\u001b[38;5;33mDense\u001b[0m)                      │ (\u001b[38;5;45mNone\u001b[0m, \u001b[38;5;34m32\u001b[0m)                  │           \u001b[38;5;34m2,080\u001b[0m │\n",
              "├──────────────────────────────────────┼─────────────────────────────┼─────────────────┤\n",
              "│ dropout_1 (\u001b[38;5;33mDropout\u001b[0m)                  │ (\u001b[38;5;45mNone\u001b[0m, \u001b[38;5;34m32\u001b[0m)                  │               \u001b[38;5;34m0\u001b[0m │\n",
              "├──────────────────────────────────────┼─────────────────────────────┼─────────────────┤\n",
              "│ dense_2 (\u001b[38;5;33mDense\u001b[0m)                      │ (\u001b[38;5;45mNone\u001b[0m, \u001b[38;5;34m1\u001b[0m)                   │              \u001b[38;5;34m33\u001b[0m │\n",
              "└──────────────────────────────────────┴─────────────────────────────┴─────────────────┘\n"
            ],
            "text/html": [
              "<pre style=\"white-space:pre;overflow-x:auto;line-height:normal;font-family:Menlo,'DejaVu Sans Mono',consolas,'Courier New',monospace\">┏━━━━━━━━━━━━━━━━━━━━━━━━━━━━━━━━━━━━━━┳━━━━━━━━━━━━━━━━━━━━━━━━━━━━━┳━━━━━━━━━━━━━━━━━┓\n",
              "┃<span style=\"font-weight: bold\"> Layer (type)                         </span>┃<span style=\"font-weight: bold\"> Output Shape                </span>┃<span style=\"font-weight: bold\">         Param # </span>┃\n",
              "┡━━━━━━━━━━━━━━━━━━━━━━━━━━━━━━━━━━━━━━╇━━━━━━━━━━━━━━━━━━━━━━━━━━━━━╇━━━━━━━━━━━━━━━━━┩\n",
              "│ dense (<span style=\"color: #0087ff; text-decoration-color: #0087ff\">Dense</span>)                        │ (<span style=\"color: #00d7ff; text-decoration-color: #00d7ff\">None</span>, <span style=\"color: #00af00; text-decoration-color: #00af00\">64</span>)                  │           <span style=\"color: #00af00; text-decoration-color: #00af00\">2,496</span> │\n",
              "├──────────────────────────────────────┼─────────────────────────────┼─────────────────┤\n",
              "│ dropout (<span style=\"color: #0087ff; text-decoration-color: #0087ff\">Dropout</span>)                    │ (<span style=\"color: #00d7ff; text-decoration-color: #00d7ff\">None</span>, <span style=\"color: #00af00; text-decoration-color: #00af00\">64</span>)                  │               <span style=\"color: #00af00; text-decoration-color: #00af00\">0</span> │\n",
              "├──────────────────────────────────────┼─────────────────────────────┼─────────────────┤\n",
              "│ dense_1 (<span style=\"color: #0087ff; text-decoration-color: #0087ff\">Dense</span>)                      │ (<span style=\"color: #00d7ff; text-decoration-color: #00d7ff\">None</span>, <span style=\"color: #00af00; text-decoration-color: #00af00\">32</span>)                  │           <span style=\"color: #00af00; text-decoration-color: #00af00\">2,080</span> │\n",
              "├──────────────────────────────────────┼─────────────────────────────┼─────────────────┤\n",
              "│ dropout_1 (<span style=\"color: #0087ff; text-decoration-color: #0087ff\">Dropout</span>)                  │ (<span style=\"color: #00d7ff; text-decoration-color: #00d7ff\">None</span>, <span style=\"color: #00af00; text-decoration-color: #00af00\">32</span>)                  │               <span style=\"color: #00af00; text-decoration-color: #00af00\">0</span> │\n",
              "├──────────────────────────────────────┼─────────────────────────────┼─────────────────┤\n",
              "│ dense_2 (<span style=\"color: #0087ff; text-decoration-color: #0087ff\">Dense</span>)                      │ (<span style=\"color: #00d7ff; text-decoration-color: #00d7ff\">None</span>, <span style=\"color: #00af00; text-decoration-color: #00af00\">1</span>)                   │              <span style=\"color: #00af00; text-decoration-color: #00af00\">33</span> │\n",
              "└──────────────────────────────────────┴─────────────────────────────┴─────────────────┘\n",
              "</pre>\n"
            ]
          },
          "metadata": {}
        },
        {
          "output_type": "display_data",
          "data": {
            "text/plain": [
              "\u001b[1m Total params: \u001b[0m\u001b[38;5;34m4,609\u001b[0m (18.00 KB)\n"
            ],
            "text/html": [
              "<pre style=\"white-space:pre;overflow-x:auto;line-height:normal;font-family:Menlo,'DejaVu Sans Mono',consolas,'Courier New',monospace\"><span style=\"font-weight: bold\"> Total params: </span><span style=\"color: #00af00; text-decoration-color: #00af00\">4,609</span> (18.00 KB)\n",
              "</pre>\n"
            ]
          },
          "metadata": {}
        },
        {
          "output_type": "display_data",
          "data": {
            "text/plain": [
              "\u001b[1m Trainable params: \u001b[0m\u001b[38;5;34m4,609\u001b[0m (18.00 KB)\n"
            ],
            "text/html": [
              "<pre style=\"white-space:pre;overflow-x:auto;line-height:normal;font-family:Menlo,'DejaVu Sans Mono',consolas,'Courier New',monospace\"><span style=\"font-weight: bold\"> Trainable params: </span><span style=\"color: #00af00; text-decoration-color: #00af00\">4,609</span> (18.00 KB)\n",
              "</pre>\n"
            ]
          },
          "metadata": {}
        },
        {
          "output_type": "display_data",
          "data": {
            "text/plain": [
              "\u001b[1m Non-trainable params: \u001b[0m\u001b[38;5;34m0\u001b[0m (0.00 B)\n"
            ],
            "text/html": [
              "<pre style=\"white-space:pre;overflow-x:auto;line-height:normal;font-family:Menlo,'DejaVu Sans Mono',consolas,'Courier New',monospace\"><span style=\"font-weight: bold\"> Non-trainable params: </span><span style=\"color: #00af00; text-decoration-color: #00af00\">0</span> (0.00 B)\n",
              "</pre>\n"
            ]
          },
          "metadata": {}
        },
        {
          "output_type": "stream",
          "name": "stdout",
          "text": [
            "None\n",
            "Model training - Deep Learning\n",
            "Epoch 1/50\n",
            "\u001b[1m2545/2545\u001b[0m \u001b[32m━━━━━━━━━━━━━━━━━━━━\u001b[0m\u001b[37m\u001b[0m \u001b[1m9s\u001b[0m 3ms/step - accuracy: 0.3443 - loss: -3204.2566 - val_accuracy: 0.3497 - val_loss: -50909.3359\n",
            "Epoch 2/50\n",
            "\u001b[1m2545/2545\u001b[0m \u001b[32m━━━━━━━━━━━━━━━━━━━━\u001b[0m\u001b[37m\u001b[0m \u001b[1m9s\u001b[0m 2ms/step - accuracy: 0.3469 - loss: -102500.9062 - val_accuracy: 0.3497 - val_loss: -316207.4375\n",
            "Epoch 3/50\n",
            "\u001b[1m2545/2545\u001b[0m \u001b[32m━━━━━━━━━━━━━━━━━━━━\u001b[0m\u001b[37m\u001b[0m \u001b[1m8s\u001b[0m 3ms/step - accuracy: 0.3529 - loss: -439373.3750 - val_accuracy: 0.3497 - val_loss: -874772.6875\n",
            "Epoch 4/50\n",
            "\u001b[1m2545/2545\u001b[0m \u001b[32m━━━━━━━━━━━━━━━━━━━━\u001b[0m\u001b[37m\u001b[0m \u001b[1m8s\u001b[0m 2ms/step - accuracy: 0.3482 - loss: -1103596.2500 - val_accuracy: 0.3497 - val_loss: -1821893.1250\n",
            "Epoch 5/50\n",
            "\u001b[1m2545/2545\u001b[0m \u001b[32m━━━━━━━━━━━━━━━━━━━━\u001b[0m\u001b[37m\u001b[0m \u001b[1m10s\u001b[0m 2ms/step - accuracy: 0.3480 - loss: -2153636.5000 - val_accuracy: 0.3497 - val_loss: -3247073.5000\n",
            "Epoch 6/50\n",
            "\u001b[1m2545/2545\u001b[0m \u001b[32m━━━━━━━━━━━━━━━━━━━━\u001b[0m\u001b[37m\u001b[0m \u001b[1m7s\u001b[0m 3ms/step - accuracy: 0.3502 - loss: -3731165.5000 - val_accuracy: 0.3497 - val_loss: -5248474.0000\n",
            "Epoch 7/50\n",
            "\u001b[1m2545/2545\u001b[0m \u001b[32m━━━━━━━━━━━━━━━━━━━━\u001b[0m\u001b[37m\u001b[0m \u001b[1m9s\u001b[0m 2ms/step - accuracy: 0.3471 - loss: -5886929.5000 - val_accuracy: 0.3497 - val_loss: -7917765.5000\n",
            "Epoch 8/50\n",
            "\u001b[1m2545/2545\u001b[0m \u001b[32m━━━━━━━━━━━━━━━━━━━━\u001b[0m\u001b[37m\u001b[0m \u001b[1m11s\u001b[0m 2ms/step - accuracy: 0.3507 - loss: -8758754.0000 - val_accuracy: 0.3497 - val_loss: -11420001.0000\n",
            "Epoch 9/50\n",
            "\u001b[1m2545/2545\u001b[0m \u001b[32m━━━━━━━━━━━━━━━━━━━━\u001b[0m\u001b[37m\u001b[0m \u001b[1m6s\u001b[0m 2ms/step - accuracy: 0.3491 - loss: -12705611.0000 - val_accuracy: 0.3497 - val_loss: -15806872.0000\n",
            "Epoch 10/50\n",
            "\u001b[1m2545/2545\u001b[0m \u001b[32m━━━━━━━━━━━━━━━━━━━━\u001b[0m\u001b[37m\u001b[0m \u001b[1m6s\u001b[0m 2ms/step - accuracy: 0.3484 - loss: -17193460.0000 - val_accuracy: 0.3497 - val_loss: -21191342.0000\n",
            "Epoch 11/50\n",
            "\u001b[1m2545/2545\u001b[0m \u001b[32m━━━━━━━━━━━━━━━━━━━━\u001b[0m\u001b[37m\u001b[0m \u001b[1m11s\u001b[0m 3ms/step - accuracy: 0.3489 - loss: -23085860.0000 - val_accuracy: 0.3497 - val_loss: -27659828.0000\n",
            "Epoch 12/50\n",
            "\u001b[1m2545/2545\u001b[0m \u001b[32m━━━━━━━━━━━━━━━━━━━━\u001b[0m\u001b[37m\u001b[0m \u001b[1m6s\u001b[0m 2ms/step - accuracy: 0.3485 - loss: -29722776.0000 - val_accuracy: 0.3497 - val_loss: -35299744.0000\n",
            "Epoch 13/50\n",
            "\u001b[1m2545/2545\u001b[0m \u001b[32m━━━━━━━━━━━━━━━━━━━━\u001b[0m\u001b[37m\u001b[0m \u001b[1m12s\u001b[0m 3ms/step - accuracy: 0.3498 - loss: -37497968.0000 - val_accuracy: 0.3497 - val_loss: -44210256.0000\n",
            "Epoch 14/50\n",
            "\u001b[1m2545/2545\u001b[0m \u001b[32m━━━━━━━━━━━━━━━━━━━━\u001b[0m\u001b[37m\u001b[0m \u001b[1m7s\u001b[0m 2ms/step - accuracy: 0.3473 - loss: -47808600.0000 - val_accuracy: 0.3497 - val_loss: -54494824.0000\n",
            "Epoch 15/50\n",
            "\u001b[1m2545/2545\u001b[0m \u001b[32m━━━━━━━━━━━━━━━━━━━━\u001b[0m\u001b[37m\u001b[0m \u001b[1m8s\u001b[0m 3ms/step - accuracy: 0.3471 - loss: -57421948.0000 - val_accuracy: 0.3497 - val_loss: -66353492.0000\n",
            "Epoch 16/50\n",
            "\u001b[1m2545/2545\u001b[0m \u001b[32m━━━━━━━━━━━━━━━━━━━━\u001b[0m\u001b[37m\u001b[0m \u001b[1m5s\u001b[0m 2ms/step - accuracy: 0.3471 - loss: -69954760.0000 - val_accuracy: 0.3497 - val_loss: -79776424.0000\n",
            "Epoch 17/50\n",
            "\u001b[1m2545/2545\u001b[0m \u001b[32m━━━━━━━━━━━━━━━━━━━━\u001b[0m\u001b[37m\u001b[0m \u001b[1m11s\u001b[0m 2ms/step - accuracy: 0.3467 - loss: -85069968.0000 - val_accuracy: 0.3497 - val_loss: -94942040.0000\n",
            "Epoch 18/50\n",
            "\u001b[1m2545/2545\u001b[0m \u001b[32m━━━━━━━━━━━━━━━━━━━━\u001b[0m\u001b[37m\u001b[0m \u001b[1m5s\u001b[0m 2ms/step - accuracy: 0.3507 - loss: -99729680.0000 - val_accuracy: 0.3497 - val_loss: -111949696.0000\n",
            "Epoch 19/50\n",
            "\u001b[1m2545/2545\u001b[0m \u001b[32m━━━━━━━━━━━━━━━━━━━━\u001b[0m\u001b[37m\u001b[0m \u001b[1m7s\u001b[0m 3ms/step - accuracy: 0.3509 - loss: -117184384.0000 - val_accuracy: 0.3497 - val_loss: -130981088.0000\n",
            "Epoch 20/50\n",
            "\u001b[1m2545/2545\u001b[0m \u001b[32m━━━━━━━━━━━━━━━━━━━━\u001b[0m\u001b[37m\u001b[0m \u001b[1m8s\u001b[0m 2ms/step - accuracy: 0.3508 - loss: -136303328.0000 - val_accuracy: 0.3497 - val_loss: -152067728.0000\n",
            "Epoch 21/50\n",
            "\u001b[1m2545/2545\u001b[0m \u001b[32m━━━━━━━━━━━━━━━━━━━━\u001b[0m\u001b[37m\u001b[0m \u001b[1m7s\u001b[0m 3ms/step - accuracy: 0.3505 - loss: -157721120.0000 - val_accuracy: 0.3497 - val_loss: -175501008.0000\n",
            "Epoch 22/50\n",
            "\u001b[1m2545/2545\u001b[0m \u001b[32m━━━━━━━━━━━━━━━━━━━━\u001b[0m\u001b[37m\u001b[0m \u001b[1m5s\u001b[0m 2ms/step - accuracy: 0.3480 - loss: -183394480.0000 - val_accuracy: 0.3497 - val_loss: -201139232.0000\n",
            "Epoch 23/50\n",
            "\u001b[1m2545/2545\u001b[0m \u001b[32m━━━━━━━━━━━━━━━━━━━━\u001b[0m\u001b[37m\u001b[0m \u001b[1m6s\u001b[0m 2ms/step - accuracy: 0.3483 - loss: -210240144.0000 - val_accuracy: 0.3497 - val_loss: -229331280.0000\n",
            "Epoch 24/50\n",
            "\u001b[1m2545/2545\u001b[0m \u001b[32m━━━━━━━━━━━━━━━━━━━━\u001b[0m\u001b[37m\u001b[0m \u001b[1m6s\u001b[0m 2ms/step - accuracy: 0.3487 - loss: -238275568.0000 - val_accuracy: 0.3497 - val_loss: -260040672.0000\n",
            "Epoch 25/50\n",
            "\u001b[1m2545/2545\u001b[0m \u001b[32m━━━━━━━━━━━━━━━━━━━━\u001b[0m\u001b[37m\u001b[0m \u001b[1m11s\u001b[0m 3ms/step - accuracy: 0.3489 - loss: -270547904.0000 - val_accuracy: 0.3497 - val_loss: -293511424.0000\n",
            "Epoch 26/50\n",
            "\u001b[1m2545/2545\u001b[0m \u001b[32m━━━━━━━━━━━━━━━━━━━━\u001b[0m\u001b[37m\u001b[0m \u001b[1m6s\u001b[0m 2ms/step - accuracy: 0.3492 - loss: -304983392.0000 - val_accuracy: 0.3497 - val_loss: -329861024.0000\n",
            "Epoch 27/50\n",
            "\u001b[1m2545/2545\u001b[0m \u001b[32m━━━━━━━━━━━━━━━━━━━━\u001b[0m\u001b[37m\u001b[0m \u001b[1m6s\u001b[0m 2ms/step - accuracy: 0.3472 - loss: -343789280.0000 - val_accuracy: 0.3497 - val_loss: -368775616.0000\n",
            "Epoch 28/50\n",
            "\u001b[1m2545/2545\u001b[0m \u001b[32m━━━━━━━━━━━━━━━━━━━━\u001b[0m\u001b[37m\u001b[0m \u001b[1m9s\u001b[0m 2ms/step - accuracy: 0.3491 - loss: -382406816.0000 - val_accuracy: 0.3497 - val_loss: -411118048.0000\n",
            "Epoch 29/50\n",
            "\u001b[1m2545/2545\u001b[0m \u001b[32m━━━━━━━━━━━━━━━━━━━━\u001b[0m\u001b[37m\u001b[0m \u001b[1m11s\u001b[0m 2ms/step - accuracy: 0.3475 - loss: -425107456.0000 - val_accuracy: 0.3497 - val_loss: -456545184.0000\n",
            "Epoch 30/50\n",
            "\u001b[1m2545/2545\u001b[0m \u001b[32m━━━━━━━━━━━━━━━━━━━━\u001b[0m\u001b[37m\u001b[0m \u001b[1m12s\u001b[0m 3ms/step - accuracy: 0.3477 - loss: -472162656.0000 - val_accuracy: 0.3497 - val_loss: -505114880.0000\n",
            "Epoch 31/50\n",
            "\u001b[1m2545/2545\u001b[0m \u001b[32m━━━━━━━━━━━━━━━━━━━━\u001b[0m\u001b[37m\u001b[0m \u001b[1m6s\u001b[0m 2ms/step - accuracy: 0.3485 - loss: -526955104.0000 - val_accuracy: 0.3497 - val_loss: -557059072.0000\n",
            "Epoch 32/50\n",
            "\u001b[1m2545/2545\u001b[0m \u001b[32m━━━━━━━━━━━━━━━━━━━━\u001b[0m\u001b[37m\u001b[0m \u001b[1m8s\u001b[0m 3ms/step - accuracy: 0.3495 - loss: -577690240.0000 - val_accuracy: 0.3497 - val_loss: -612408640.0000\n",
            "Epoch 33/50\n",
            "\u001b[1m2545/2545\u001b[0m \u001b[32m━━━━━━━━━━━━━━━━━━━━\u001b[0m\u001b[37m\u001b[0m \u001b[1m8s\u001b[0m 2ms/step - accuracy: 0.3501 - loss: -633926336.0000 - val_accuracy: 0.3497 - val_loss: -671640256.0000\n",
            "Epoch 34/50\n",
            "\u001b[1m2545/2545\u001b[0m \u001b[32m━━━━━━━━━━━━━━━━━━━━\u001b[0m\u001b[37m\u001b[0m \u001b[1m10s\u001b[0m 2ms/step - accuracy: 0.3476 - loss: -694128192.0000 - val_accuracy: 0.3497 - val_loss: -734312384.0000\n",
            "Epoch 35/50\n",
            "\u001b[1m2545/2545\u001b[0m \u001b[32m━━━━━━━━━━━━━━━━━━━━\u001b[0m\u001b[37m\u001b[0m \u001b[1m12s\u001b[0m 3ms/step - accuracy: 0.3502 - loss: -758711872.0000 - val_accuracy: 0.3497 - val_loss: -800829568.0000\n",
            "Epoch 36/50\n",
            "\u001b[1m2545/2545\u001b[0m \u001b[32m━━━━━━━━━━━━━━━━━━━━\u001b[0m\u001b[37m\u001b[0m \u001b[1m6s\u001b[0m 2ms/step - accuracy: 0.3460 - loss: -829517376.0000 - val_accuracy: 0.3497 - val_loss: -871491712.0000\n",
            "Epoch 37/50\n",
            "\u001b[1m2545/2545\u001b[0m \u001b[32m━━━━━━━━━━━━━━━━━━━━\u001b[0m\u001b[37m\u001b[0m \u001b[1m10s\u001b[0m 2ms/step - accuracy: 0.3489 - loss: -903004352.0000 - val_accuracy: 0.3497 - val_loss: -946373056.0000\n",
            "Epoch 38/50\n",
            "\u001b[1m2545/2545\u001b[0m \u001b[32m━━━━━━━━━━━━━━━━━━━━\u001b[0m\u001b[37m\u001b[0m \u001b[1m11s\u001b[0m 2ms/step - accuracy: 0.3495 - loss: -970819840.0000 - val_accuracy: 0.3497 - val_loss: -1025355264.0000\n",
            "Epoch 39/50\n",
            "\u001b[1m2545/2545\u001b[0m \u001b[32m━━━━━━━━━━━━━━━━━━━━\u001b[0m\u001b[37m\u001b[0m \u001b[1m5s\u001b[0m 2ms/step - accuracy: 0.3471 - loss: -1061220928.0000 - val_accuracy: 0.3497 - val_loss: -1108836352.0000\n",
            "Epoch 40/50\n",
            "\u001b[1m2545/2545\u001b[0m \u001b[32m━━━━━━━━━━━━━━━━━━━━\u001b[0m\u001b[37m\u001b[0m \u001b[1m8s\u001b[0m 3ms/step - accuracy: 0.3496 - loss: -1136297856.0000 - val_accuracy: 0.3497 - val_loss: -1196521088.0000\n",
            "Epoch 41/50\n",
            "\u001b[1m2545/2545\u001b[0m \u001b[32m━━━━━━━━━━━━━━━━━━━━\u001b[0m\u001b[37m\u001b[0m \u001b[1m5s\u001b[0m 2ms/step - accuracy: 0.3492 - loss: -1226479232.0000 - val_accuracy: 0.3497 - val_loss: -1288624896.0000\n",
            "Epoch 42/50\n",
            "\u001b[1m2545/2545\u001b[0m \u001b[32m━━━━━━━━━━━━━━━━━━━━\u001b[0m\u001b[37m\u001b[0m \u001b[1m7s\u001b[0m 3ms/step - accuracy: 0.3522 - loss: -1319073280.0000 - val_accuracy: 0.3497 - val_loss: -1385498496.0000\n",
            "Epoch 43/50\n",
            "\u001b[1m2545/2545\u001b[0m \u001b[32m━━━━━━━━━━━━━━━━━━━━\u001b[0m\u001b[37m\u001b[0m \u001b[1m6s\u001b[0m 2ms/step - accuracy: 0.3508 - loss: -1411849856.0000 - val_accuracy: 0.3497 - val_loss: -1487387008.0000\n",
            "Epoch 44/50\n",
            "\u001b[1m2545/2545\u001b[0m \u001b[32m━━━━━━━━━━━━━━━━━━━━\u001b[0m\u001b[37m\u001b[0m \u001b[1m12s\u001b[0m 3ms/step - accuracy: 0.3515 - loss: -1513862656.0000 - val_accuracy: 0.3497 - val_loss: -1594317440.0000\n",
            "Epoch 45/50\n",
            "\u001b[1m2545/2545\u001b[0m \u001b[32m━━━━━━━━━━━━━━━━━━━━\u001b[0m\u001b[37m\u001b[0m \u001b[1m6s\u001b[0m 2ms/step - accuracy: 0.3507 - loss: -1634203520.0000 - val_accuracy: 0.3497 - val_loss: -1705882496.0000\n",
            "Epoch 46/50\n",
            "\u001b[1m2545/2545\u001b[0m \u001b[32m━━━━━━━━━━━━━━━━━━━━\u001b[0m\u001b[37m\u001b[0m \u001b[1m10s\u001b[0m 2ms/step - accuracy: 0.3474 - loss: -1762711552.0000 - val_accuracy: 0.3497 - val_loss: -1822344064.0000\n",
            "Epoch 47/50\n",
            "\u001b[1m2545/2545\u001b[0m \u001b[32m━━━━━━━━━━━━━━━━━━━━\u001b[0m\u001b[37m\u001b[0m \u001b[1m6s\u001b[0m 2ms/step - accuracy: 0.3497 - loss: -1882511744.0000 - val_accuracy: 0.3497 - val_loss: -1944519424.0000\n",
            "Epoch 48/50\n",
            "\u001b[1m2545/2545\u001b[0m \u001b[32m━━━━━━━━━━━━━━━━━━━━\u001b[0m\u001b[37m\u001b[0m \u001b[1m7s\u001b[0m 3ms/step - accuracy: 0.3511 - loss: -1973587968.0000 - val_accuracy: 0.3497 - val_loss: -2072356096.0000\n",
            "Epoch 49/50\n",
            "\u001b[1m2545/2545\u001b[0m \u001b[32m━━━━━━━━━━━━━━━━━━━━\u001b[0m\u001b[37m\u001b[0m \u001b[1m9s\u001b[0m 2ms/step - accuracy: 0.3475 - loss: -2111982336.0000 - val_accuracy: 0.3497 - val_loss: -2205036288.0000\n",
            "Epoch 50/50\n",
            "\u001b[1m2545/2545\u001b[0m \u001b[32m━━━━━━━━━━━━━━━━━━━━\u001b[0m\u001b[37m\u001b[0m \u001b[1m10s\u001b[0m 2ms/step - accuracy: 0.3511 - loss: -2246772992.0000 - val_accuracy: 0.3497 - val_loss: -2344130304.0000\n",
            "\u001b[1m637/637\u001b[0m \u001b[32m━━━━━━━━━━━━━━━━━━━━\u001b[0m\u001b[37m\u001b[0m \u001b[1m1s\u001b[0m 2ms/step\n"
          ]
        }
      ]
    },
    {
      "cell_type": "markdown",
      "source": [
        "# Model Evaluation"
      ],
      "metadata": {
        "id": "CLDruvN5E2tf"
      }
    },
    {
      "cell_type": "code",
      "source": [
        "print('Model evaluation......')\n",
        "def evaluate_model(model_name, y_test, y_pred):\n",
        "    print(f'--- {model_name} Evaluation ---')\n",
        "    print(f'Accuracy: {accuracy_score(y_test, y_pred):.2f}')\n",
        "    print('Classification Report:')\n",
        "    print(classification_report(y_test, y_pred))\n",
        "\n",
        "# Evaluate Logistic Regression\n",
        "evaluate_model(\"Logistic Regression\", y_test, y_pred_logistic)\n",
        "\n",
        "# Evaluate Random Forest\n",
        "evaluate_model(\"Random Forest\", y_test, y_pred_rf)\n",
        "\n",
        "# Evaluate SVM\n",
        "# evaluate_model(\"Support Vector Machine (SVM)\", y_test, y_pred_svm)\n",
        "\n",
        "# Evaluate Gradient Boosting\n",
        "evaluate_model(\"Gradient Boosting\", y_test, y_pred_gb)\n",
        "\n",
        "# Evaluate XGBoost\n",
        "evaluate_model(\"XGBoost\", y_test, y_pred_xgb)\n",
        "\n",
        "# Evaluate AdaBoost\n",
        "evaluate_model(\"AdaBoost\", y_test, y_pred_ada)\n",
        "\n",
        "# Evaluate Deep Learning Model\n",
        "evaluate_model(\"Deep Learning Model\", y_test, y_pred_deep)"
      ],
      "metadata": {
        "colab": {
          "base_uri": "https://localhost:8080/"
        },
        "id": "GzN2WjS6EJ20",
        "outputId": "065ebd5d-403d-4993-e687-3cdabb156bfa"
      },
      "execution_count": 18,
      "outputs": [
        {
          "output_type": "stream",
          "name": "stdout",
          "text": [
            "Model evaluation......\n",
            "--- Logistic Regression Evaluation ---\n",
            "Accuracy: 0.57\n",
            "Classification Report:\n",
            "              precision    recall  f1-score   support\n",
            "\n",
            "           0       0.39      0.01      0.02      2285\n",
            "           1       0.50      0.24      0.33      7117\n",
            "           2       0.58      0.90      0.71     10952\n",
            "\n",
            "    accuracy                           0.57     20354\n",
            "   macro avg       0.49      0.38      0.35     20354\n",
            "weighted avg       0.53      0.57      0.50     20354\n",
            "\n",
            "--- Random Forest Evaluation ---\n",
            "Accuracy: 0.57\n",
            "Classification Report:\n",
            "              precision    recall  f1-score   support\n",
            "\n",
            "           0       0.26      0.02      0.04      2285\n",
            "           1       0.48      0.40      0.43      7117\n",
            "           2       0.61      0.80      0.69     10952\n",
            "\n",
            "    accuracy                           0.57     20354\n",
            "   macro avg       0.45      0.40      0.39     20354\n",
            "weighted avg       0.53      0.57      0.53     20354\n",
            "\n",
            "--- Gradient Boosting Evaluation ---\n",
            "Accuracy: 0.59\n",
            "Classification Report:\n",
            "              precision    recall  f1-score   support\n",
            "\n",
            "           0       0.46      0.02      0.04      2285\n",
            "           1       0.51      0.36      0.42      7117\n",
            "           2       0.61      0.85      0.71     10952\n",
            "\n",
            "    accuracy                           0.59     20354\n",
            "   macro avg       0.53      0.41      0.39     20354\n",
            "weighted avg       0.56      0.59      0.53     20354\n",
            "\n",
            "--- XGBoost Evaluation ---\n",
            "Accuracy: 0.59\n",
            "Classification Report:\n",
            "              precision    recall  f1-score   support\n",
            "\n",
            "           0       0.42      0.03      0.06      2285\n",
            "           1       0.50      0.39      0.44      7117\n",
            "           2       0.62      0.83      0.71     10952\n",
            "\n",
            "    accuracy                           0.59     20354\n",
            "   macro avg       0.51      0.42      0.40     20354\n",
            "weighted avg       0.56      0.59      0.54     20354\n",
            "\n",
            "--- AdaBoost Evaluation ---\n",
            "Accuracy: 0.58\n",
            "Classification Report:\n",
            "              precision    recall  f1-score   support\n",
            "\n",
            "           0       0.38      0.01      0.02      2285\n",
            "           1       0.51      0.27      0.35      7117\n",
            "           2       0.59      0.90      0.71     10952\n",
            "\n",
            "    accuracy                           0.58     20354\n",
            "   macro avg       0.49      0.39      0.36     20354\n",
            "weighted avg       0.54      0.58      0.51     20354\n",
            "\n",
            "--- Deep Learning Model Evaluation ---\n",
            "Accuracy: 0.35\n",
            "Classification Report:\n",
            "              precision    recall  f1-score   support\n",
            "\n",
            "           0       0.00      0.00      0.00      2285\n",
            "           1       0.35      1.00      0.52      7117\n",
            "           2       0.00      0.00      0.00     10952\n",
            "\n",
            "    accuracy                           0.35     20354\n",
            "   macro avg       0.12      0.33      0.17     20354\n",
            "weighted avg       0.12      0.35      0.18     20354\n",
            "\n"
          ]
        },
        {
          "output_type": "stream",
          "name": "stderr",
          "text": [
            "/usr/local/lib/python3.10/dist-packages/sklearn/metrics/_classification.py:1565: UndefinedMetricWarning: Precision is ill-defined and being set to 0.0 in labels with no predicted samples. Use `zero_division` parameter to control this behavior.\n",
            "  _warn_prf(average, modifier, f\"{metric.capitalize()} is\", len(result))\n",
            "/usr/local/lib/python3.10/dist-packages/sklearn/metrics/_classification.py:1565: UndefinedMetricWarning: Precision is ill-defined and being set to 0.0 in labels with no predicted samples. Use `zero_division` parameter to control this behavior.\n",
            "  _warn_prf(average, modifier, f\"{metric.capitalize()} is\", len(result))\n",
            "/usr/local/lib/python3.10/dist-packages/sklearn/metrics/_classification.py:1565: UndefinedMetricWarning: Precision is ill-defined and being set to 0.0 in labels with no predicted samples. Use `zero_division` parameter to control this behavior.\n",
            "  _warn_prf(average, modifier, f\"{metric.capitalize()} is\", len(result))\n"
          ]
        }
      ]
    },
    {
      "cell_type": "code",
      "source": [
        "# Comparing Model accuracy\n",
        "print(\"Logistic Regression Accuracy:\", accuracy_score(y_test, y_pred_logistic))\n",
        "print(\"Random Forest Accuracy:\", accuracy_score(y_test, y_pred_rf))\n",
        "# print(\"SVM Accuracy:\", accuracy_score(y_test, y_pred_svm))\n",
        "print(\"Gradient Boosting Accuracy:\", accuracy_score(y_test, y_pred_gb))\n",
        "print(\"XGBoost Accuracy:\", accuracy_score(y_test, y_pred_xgb))\n",
        "print(\"AdaBoost Accuracy:\", accuracy_score(y_test, y_pred_ada))\n",
        "print(\"Deep Learning Model Accuracy:\", accuracy_score(y_test, y_pred_deep))"
      ],
      "metadata": {
        "id": "69A1DgEkEPU-",
        "outputId": "418bfe36-0325-46c4-b1b4-688820837dc8",
        "colab": {
          "base_uri": "https://localhost:8080/"
        }
      },
      "execution_count": 19,
      "outputs": [
        {
          "output_type": "stream",
          "name": "stdout",
          "text": [
            "Logistic Regression Accuracy: 0.5693721135894665\n",
            "Random Forest Accuracy: 0.5701581998624349\n",
            "Gradient Boosting Accuracy: 0.5863220988503488\n",
            "XGBoost Accuracy: 0.585683403753562\n",
            "AdaBoost Accuracy: 0.5764468900461825\n",
            "Deep Learning Model Accuracy: 0.34966100029478236\n"
          ]
        }
      ]
    },
    {
      "cell_type": "code",
      "source": [],
      "metadata": {
        "id": "Ike7lMa-EULL"
      },
      "execution_count": 19,
      "outputs": []
    }
  ]
}